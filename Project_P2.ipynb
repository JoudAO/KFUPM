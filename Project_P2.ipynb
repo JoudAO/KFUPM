{
  "nbformat": 4,
  "nbformat_minor": 0,
  "metadata": {
    "colab": {
      "provenance": [],
      "gpuType": "T4"
    },
    "kernelspec": {
      "name": "python3",
      "display_name": "Python 3"
    },
    "language_info": {
      "name": "python"
    },
    "accelerator": "GPU"
  },
  "cells": [
    {
      "cell_type": "code",
      "execution_count": null,
      "metadata": {
        "colab": {
          "base_uri": "https://localhost:8080/"
        },
        "id": "O8VkQpiOJVm-",
        "outputId": "7b17ef8f-2684-4ddd-f1a9-f7e85f805e09"
      },
      "outputs": [
        {
          "output_type": "stream",
          "name": "stdout",
          "text": [
            "Requirement already satisfied: pandas in /usr/local/lib/python3.10/dist-packages (2.2.2)\n",
            "Requirement already satisfied: opencv-python-headless in /usr/local/lib/python3.10/dist-packages (4.10.0.84)\n",
            "Requirement already satisfied: numpy>=1.22.4 in /usr/local/lib/python3.10/dist-packages (from pandas) (1.26.4)\n",
            "Requirement already satisfied: python-dateutil>=2.8.2 in /usr/local/lib/python3.10/dist-packages (from pandas) (2.8.2)\n",
            "Requirement already satisfied: pytz>=2020.1 in /usr/local/lib/python3.10/dist-packages (from pandas) (2024.2)\n",
            "Requirement already satisfied: tzdata>=2022.7 in /usr/local/lib/python3.10/dist-packages (from pandas) (2024.2)\n",
            "Requirement already satisfied: six>=1.5 in /usr/local/lib/python3.10/dist-packages (from python-dateutil>=2.8.2->pandas) (1.16.0)\n"
          ]
        }
      ],
      "source": [
        "!pip install pandas opencv-python-headless\n"
      ]
    },
    {
      "cell_type": "code",
      "source": [
        "from google.colab import drive\n",
        "drive.mount('/content/drive')\n"
      ],
      "metadata": {
        "colab": {
          "base_uri": "https://localhost:8080/"
        },
        "id": "tVObr6-aJ6Z3",
        "outputId": "3de0d497-9794-449e-af4d-1ae35f6ecde4"
      },
      "execution_count": null,
      "outputs": [
        {
          "output_type": "stream",
          "name": "stdout",
          "text": [
            "Mounted at /content/drive\n"
          ]
        }
      ]
    },
    {
      "cell_type": "code",
      "source": [
        "import zipfile\n",
        "import os\n",
        "\n",
        "\n",
        "zip_path = '/content/drive/MyDrive/Dataset_pro/Dataset.zip'\n",
        "extract_path = './Dataset'\n",
        "\n",
        "with zipfile.ZipFile(zip_path, 'r') as zip_ref:\n",
        "    zip_ref.extractall(extract_path)\n",
        "\n",
        "\n",
        "all_numbers_path = os.path.join(extract_path, 'AllNumbers')\n",
        "\n",
        "\n",
        "if os.path.exists(all_numbers_path):\n",
        "    print(\"Files extracted to:\", all_numbers_path)\n",
        "    print(os.listdir(all_numbers_path))\n",
        "else:\n",
        "    print(f\"'AllNumbers' folder not found inside {extract_path}\")\n"
      ],
      "metadata": {
        "colab": {
          "base_uri": "https://localhost:8080/"
        },
        "id": "GABr5Wvp464b",
        "outputId": "61530f14-1264-477c-bd22-2612fa2668fb"
      },
      "execution_count": 13,
      "outputs": [
        {
          "output_type": "stream",
          "name": "stdout",
          "text": [
            "Files extracted to: ./Dataset/AllNumbers\n",
            "['Two_full (1077).jpg', 'Zero_full (687).jpg', 'Zero_full (665).jpg', 'Eight_full (45).jpg', 'Five_full (1416).jpg', 'Three_full (677).jpg', 'Eight_full (677).jpg', 'Six_full (954).jpg', 'Five_full (736).jpg', 'Nine_full (1294).jpg', 'Six_full (39).jpg', 'Three_full (37).jpg', 'Nine_full (45).jpg', 'Two_full (1454).jpg', 'Six_full (1394).jpg', 'Four_full (711).jpg', 'Zero_full (893).jpg', 'Two_full (1455).jpg', 'Seven_full (39).jpg', 'Two_full (916).jpg', 'Three_full (696).jpg', 'Three_full (691).jpg', 'Two_full (1176).jpg', 'Zero_full (172).jpg', 'Four_full (978).jpg', 'One_full (751).jpg', 'Six_full (718).jpg', 'Five_full (280).jpg', 'Four_full (989).jpg', 'Nine_full (271).jpg', 'Eight_full (682).jpg', 'One_full (692).jpg', 'Three_full (715).jpg', 'Eight_full (40).jpg', 'Seven_full (977).jpg', 'Eight_full (1368).jpg', 'Eight_full (43).jpg', 'Four_full (1005).jpg', 'One_full (34).jpg', 'Two_full (1444).jpg', 'Nine_full (651).jpg', 'Zero_full (899).jpg', 'Two_full (1450).jpg', 'Five_full (682).jpg', 'One_full (845).jpg', 'Two_full (983).jpg', 'Two_full (909).jpg', 'Five_full (935).jpg', 'Five_full (231).jpg', 'Four_full (1188).jpg', 'Three_full (682).jpg', 'Two_full (913).jpg', 'One_full (919).jpg', 'Three_full (703).jpg', 'One_full (710).jpg', 'Three_full (698).jpg', 'Nine_full (888).jpg', 'Zero_full (685).jpg', 'Zero_full (930).jpg', 'Eight_full (712).jpg', 'Four_full (1449).jpg', 'One_full (235).jpg', 'One_full (1212).jpg', 'Five_full (721).jpg', 'Nine_full (883).jpg', 'Two_full (966).jpg', 'Five_full (1131).jpg', 'Four_full (162).jpg', 'Seven_full (699).jpg', 'Zero_full (1183).jpg', 'Three_full (694).jpg', 'One_full (916).jpg', 'Eight_full (716).jpg', 'Seven_full (942).jpg', 'Nine_full (828).jpg', 'Seven_full (681).jpg', 'One_full (693).jpg', 'One_full (722).jpg', 'Three_full (913).jpg', 'Three_full (714).jpg', 'Seven_full (945).jpg', 'Four_full (999).jpg', 'Two_full (962).jpg', 'Zero_full (921).jpg', 'Two_full (964).jpg', 'Eight_full (913).jpg', 'Six_full (893).jpg', 'Zero_full (703).jpg', 'Seven_full (726).jpg', 'One_full (723).jpg', 'Seven_full (723).jpg', 'Seven_full (227).jpg', 'Four_full (992).jpg', 'Eight_full (1114).jpg', 'Eight_full (1362).jpg', 'Four_full (736).jpg', 'Two_full (993).jpg', 'Eight_full (273).jpg', 'Eight_full (1366).jpg', 'Four_full (1001).jpg', 'Eight_full (690).jpg', 'Four_full (1017).jpg', 'Seven_full (729).jpg', 'Three_full (947).jpg', 'Two_full (1076).jpg', 'One_full (959).jpg', 'Two_full (1441).jpg', 'One_full (927).jpg', 'Eight_full (1093).jpg', 'Three_full (186).jpg', 'Three_full (182).jpg', 'Nine_full (636).jpg', 'Seven_full (709).jpg', 'Four_full (767).jpg', 'One_full (700).jpg', 'Zero_full (24).jpg', 'Two_full (41).jpg', 'Two_full (182).jpg', 'Five_full (684).jpg', 'Five_full (45).jpg', 'Eight_full (951).jpg', 'Zero_full (25).jpg', 'Two_full (912).jpg', 'Two_full (1074).jpg', 'Eight_full (687).jpg', 'Seven_full (680).jpg', 'Two_full (1443).jpg', 'Four_full (714).jpg', 'Zero_full (916).jpg', 'Zero_full (816).jpg', 'Six_full (894).jpg', 'Seven_full (948).jpg', 'Four_full (246).jpg', 'Eight_full (1098).jpg', 'Seven_full (690).jpg', 'Four_full (949).jpg', 'Five_full (681).jpg', 'Eight_full (225).jpg', 'Four_full (1454).jpg', 'Five_full (1415).jpg', 'Three_full (954).jpg', 'Six_full (684).jpg', 'One_full (960).jpg', 'Zero_full (699).jpg', 'Five_full (930).jpg', 'Zero_full (166).jpg', 'Nine_full (668).jpg', 'Eight_full (1091).jpg', 'Eight_full (901).jpg', 'Five_full (927).jpg', 'Seven_full (918).jpg', 'Three_full (701).jpg', 'Seven_full (713).jpg', 'Eight_full (1381).jpg', 'One_full (35).jpg', 'Nine_full (870).jpg', 'Six_full (711).jpg', 'Eight_full (702).jpg', 'Three_full (708).jpg', 'Five_full (983).jpg', 'Eight_full (900).jpg', 'Six_full (1416).jpg', 'One_full (931).jpg', 'Zero_full (708).jpg', 'Three_full (1145).jpg', 'Two_full (35).jpg', 'Two_full (1070).jpg', 'Eight_full (903).jpg', 'Six_full (897).jpg', 'Six_full (914).jpg', 'Nine_full (1303).jpg', 'Seven_full (239).jpg', 'Seven_full (1409).jpg', 'Five_full (970).jpg', 'Two_full (974).jpg', 'One_full (38).jpg', 'Six_full (971).jpg', 'Three_full (885).jpg', 'Eight_full (224).jpg', 'Two_full (1164).jpg', 'Two_full (918).jpg', 'Two_full (987).jpg', 'Five_full (691).jpg', 'One_full (849).jpg', 'One_full (192).jpg', 'Four_full (280).jpg', 'One_full (924).jpg', 'One_full (29).jpg', 'Six_full (45).jpg', 'Zero_full (888).jpg', 'Seven_full (1401).jpg', 'Six_full (694).jpg', 'Eight_full (700).jpg', 'Seven_full (44).jpg', 'Five_full (708).jpg', 'Nine_full (667).jpg', 'Five_full (960).jpg', 'Five_full (933).jpg', 'Zero_full (163).jpg', 'Eight_full (1372).jpg', 'Three_full (702).jpg', 'Four_full (1459).jpg', 'One_full (178).jpg', 'Nine_full (643).jpg', 'Six_full (44).jpg', 'Two_full (994).jpg', 'Nine_full (647).jpg', 'One_full (718).jpg', 'Zero_full (684).jpg', 'Zero_full (680).jpg', 'One_full (946).jpg', 'Four_full (1015).jpg', 'Zero_full (690).jpg', 'Six_full (728).jpg', 'Seven_full (1398).jpg', 'Nine_full (886).jpg', 'Seven_full (711).jpg', 'Eight_full (885).jpg', 'Nine_full (1291).jpg', 'Three_full (669).jpg', 'Eight_full (912).jpg', 'Three_full (1143).jpg', 'One_full (1449).jpg', 'Three_full (721).jpg', 'Two_full (194).jpg', 'Five_full (1130).jpg', 'Seven_full (282).jpg', 'Zero_full (722).jpg', 'Five_full (38).jpg', 'One_full (724).jpg', 'Zero_full (924).jpg', 'Seven_full (975).jpg', 'Three_full (906).jpg', 'Six_full (924).jpg', 'Two_full (929).jpg', 'Nine_full (644).jpg', 'Two_full (183).jpg', 'Two_full (1160).jpg', 'Five_full (959).jpg', 'Eight_full (270).jpg', 'Five_full (35).jpg', 'Three_full (914).jpg', 'Six_full (701).jpg', 'Four_full (731).jpg', 'Three_full (680).jpg', 'Zero_full (171).jpg', 'One_full (726).jpg', 'Seven_full (1391).jpg', 'Four_full (754).jpg', 'Two_full (924).jpg', 'Three_full (1431).jpg', 'Seven_full (678).jpg', 'Six_full (1393).jpg', 'Three_full (707).jpg', 'Zero_full (935).jpg', 'Six_full (705).jpg', 'Three_full (904).jpg', 'Six_full (704).jpg', 'Two_full (44).jpg', 'Nine_full (1299).jpg', 'Nine_full (40).jpg', 'Zero_full (709).jpg', 'Nine_full (679).jpg', 'Six_full (965).jpg', 'Nine_full (847).jpg', 'Three_full (1416).jpg', 'Four_full (294).jpg', 'Three_full (684).jpg', 'Nine_full (645).jpg', 'Five_full (947).jpg', 'Three_full (1169).jpg', 'One_full (843).jpg', 'One_full (926).jpg', 'Three_full (686).jpg', 'Three_full (191).jpg', 'Three_full (692).jpg', 'Six_full (32).jpg', 'Two_full (1163).jpg', 'Seven_full (236).jpg', 'Four_full (931).jpg', 'Three_full (181).jpg', 'Two_full (181).jpg', 'Six_full (691).jpg', 'Two_full (1078).jpg', 'Nine_full (678).jpg', 'Zero_full (909).jpg', 'Three_full (192).jpg', 'Three_full (36).jpg', 'Three_full (922).jpg', 'Three_full (910).jpg', 'One_full (842).jpg', 'Zero_full (712).jpg', 'Seven_full (916).jpg', 'Eight_full (673).jpg', 'Seven_full (928).jpg', 'Seven_full (911).jpg', 'Three_full (1433).jpg', 'Three_full (695).jpg', 'Zero_full (693).jpg', 'Five_full (737).jpg', 'Zero_full (714).jpg', 'Seven_full (1393).jpg', 'Five_full (284).jpg', 'Six_full (911).jpg', 'Zero_full (686).jpg', 'One_full (183).jpg', 'Four_full (288).jpg', 'Eight_full (1354).jpg', 'Six_full (1398).jpg', 'Three_full (712).jpg', 'Four_full (737).jpg', 'Nine_full (840).jpg', 'Five_full (235).jpg', 'Seven_full (712).jpg', 'Four_full (994).jpg', 'Nine_full (874).jpg', 'Nine_full (1292).jpg', 'Zero_full (2).jpg', 'Six_full (717).jpg', 'Two_full (935).jpg', 'One_full (687).jpg', 'Three_full (40).jpg', 'Two_full (193).jpg', 'One_full (691).jpg', 'Seven_full (949).jpg', 'One_full (736).jpg', 'One_full (720).jpg', 'Six_full (689).jpg', 'Six_full (1391).jpg', 'Seven_full (229).jpg', 'Nine_full (833).jpg', 'Five_full (694).jpg', 'Four_full (1004).jpg', 'Eight_full (268).jpg', 'Four_full (1464).jpg', 'Five_full (687).jpg', 'Seven_full (237).jpg', 'Three_full (946).jpg', 'Two_full (973).jpg', 'Four_full (933).jpg', 'Three_full (1418).jpg', 'Eight_full (1369).jpg', 'Six_full (905).jpg', 'One_full (702).jpg', 'Nine_full (227).jpg', 'Five_full (277).jpg', 'Eight_full (695).jpg', 'One_full (191).jpg', 'Two_full (961).jpg', 'Zero_full (165).jpg', 'Six_full (951).jpg', 'Seven_full (952).jpg', 'Eight_full (919).jpg', 'Five_full (688).jpg', 'Nine_full (637).jpg', 'Eight_full (894).jpg', 'Nine_full (214).jpg', 'Two_full (907).jpg', 'Eight_full (887).jpg', 'Seven_full (1397).jpg', 'Zero_full (209).jpg', 'One_full (756).jpg', 'Seven_full (37).jpg', 'One_full (1210).jpg', 'One_full (932).jpg', 'Four_full (962).jpg', 'Six_full (709).jpg', 'Six_full (43).jpg', 'Six_full (724).jpg', 'Eight_full (1376).jpg', 'Six_full (1128).jpg', 'Three_full (189).jpg', 'Three_full (46).jpg', 'Six_full (1413).jpg', 'Four_full (985).jpg', 'Five_full (952).jpg', 'One_full (750).jpg', 'Five_full (1133).jpg', 'Five_full (728).jpg', 'Five_full (1134).jpg', 'One_full (716).jpg', 'Zero_full (922).jpg', 'Seven_full (35).jpg', 'Two_full (945).jpg', 'Six_full (677).jpg', 'Nine_full (677).jpg', 'Two_full (238).jpg', 'Zero_full (7).jpg', 'Nine_full (863).jpg', 'Three_full (905).jpg', 'Nine_full (877).jpg', 'Zero_full (692).jpg', 'Two_full (1445).jpg', 'Four_full (287).jpg', 'Two_full (1462).jpg', 'One_full (835).jpg', 'One_full (837).jpg', 'Seven_full (702).jpg', 'Four_full (755).jpg', 'Eight_full (269).jpg', 'Three_full (723).jpg', 'Seven_full (1384).jpg', 'Eight_full (688).jpg', 'Five_full (919).jpg', 'Eight_full (230).jpg', 'Eight_full (37).jpg', 'Four_full (1450).jpg', 'Three_full (713).jpg', 'Seven_full (1392).jpg', 'Seven_full (733).jpg', 'Zero_full (1146).jpg', 'Four_full (765).jpg', 'One_full (1478).jpg', 'Five_full (945).jpg', 'Four_full (756).jpg', 'Nine_full (683).jpg', 'Seven_full (736).jpg', 'Eight_full (35).jpg', 'Eight_full (674).jpg', 'Eight_full (703).jpg', 'Zero_full (932).jpg', 'Six_full (714).jpg', 'One_full (180).jpg', 'Zero_full (15).jpg', 'One_full (688).jpg', 'Seven_full (686).jpg', 'Two_full (42).jpg', 'Six_full (825).jpg', 'Six_full (1392).jpg', 'Six_full (922).jpg', 'Three_full (1054).jpg', 'Eight_full (42).jpg', 'Six_full (909).jpg', 'Zero_full (713).jpg', 'Seven_full (700).jpg', 'Nine_full (217).jpg', 'Eight_full (32).jpg', 'Seven_full (682).jpg', 'Three_full (184).jpg', 'Two_full (908).jpg', 'Two_full (1461).jpg', 'Six_full (963).jpg', 'Six_full (975).jpg', 'Five_full (917).jpg', 'Five_full (727).jpg', 'Eight_full (926).jpg', 'Six_full (1400).jpg', 'Zero_full (1143).jpg', 'One_full (961).jpg', 'Eight_full (911).jpg', 'Seven_full (922).jpg', 'Eight_full (713).jpg', 'One_full (929).jpg', 'Four_full (1018).jpg', 'Six_full (948).jpg', 'Three_full (920).jpg', 'Four_full (241).jpg', 'Six_full (697).jpg', 'One_full (1450).jpg', 'Nine_full (836).jpg', 'Seven_full (724).jpg', 'Five_full (32).jpg', 'Zero_full (211).jpg', 'Six_full (966).jpg', 'Seven_full (684).jpg', 'Eight_full (717).jpg', 'Two_full (921).jpg', 'Seven_full (966).jpg', 'One_full (921).jpg', 'Five_full (283).jpg', 'Seven_full (934).jpg', 'Eight_full (949).jpg', 'One_full (737).jpg', 'Seven_full (1404).jpg', 'Four_full (1013).jpg', 'One_full (839).jpg', 'Eight_full (696).jpg', 'Eight_full (1355).jpg', 'One_full (1209).jpg', 'Seven_full (910).jpg', 'Zero_full (912).jpg', 'Four_full (1098).jpg', 'Four_full (716).jpg', 'Nine_full (843).jpg', 'Two_full (1198).jpg', 'Five_full (956).jpg', 'Zero_full (889).jpg', 'Six_full (899).jpg', 'Four_full (950).jpg', 'Four_full (1475).jpg', 'Seven_full (917).jpg', 'Two_full (37).jpg', 'Two_full (1181).jpg', 'Two_full (192).jpg', 'Nine_full (844).jpg', 'Three_full (908).jpg', 'Seven_full (1403).jpg', 'Two_full (985).jpg', 'Five_full (713).jpg', 'Nine_full (879).jpg', 'Zero_full (169).jpg', 'Two_full (971).jpg', 'Nine_full (875).jpg', 'Eight_full (1378).jpg', 'Eight_full (709).jpg', 'One_full (738).jpg', 'Two_full (226).jpg', 'Four_full (990).jpg', 'Seven_full (694).jpg', 'Four_full (727).jpg', 'Zero_full (903).jpg', 'Nine_full (263).jpg', 'Zero_full (710).jpg', 'Seven_full (1406).jpg', 'Six_full (947).jpg', 'Eight_full (686).jpg', 'One_full (915).jpg', 'Six_full (970).jpg', 'Nine_full (648).jpg', 'One_full (755).jpg', 'One_full (233).jpg', 'Five_full (43).jpg', 'Five_full (1407).jpg', 'Two_full (240).jpg', 'Three_full (1137).jpg', 'Three_full (912).jpg', 'Two_full (1075).jpg', 'Two_full (992).jpg', 'Eight_full (1371).jpg', 'Nine_full (266).jpg', 'Seven_full (730).jpg', 'Nine_full (861).jpg', 'Nine_full (865).jpg', 'Nine_full (641).jpg', 'Eight_full (927).jpg', 'Three_full (193).jpg', 'Four_full (935).jpg', 'Zero_full (220).jpg', 'Zero_full (919).jpg', 'Five_full (700).jpg', 'Two_full (1457).jpg', 'Six_full (31).jpg', 'Zero_full (883).jpg', 'One_full (227).jpg', 'Nine_full (854).jpg', 'Three_full (38).jpg', 'Seven_full (687).jpg', 'Five_full (723).jpg', 'Zero_full (716).jpg', 'Six_full (1388).jpg', 'Seven_full (1407).jpg', 'One_full (713).jpg', 'One_full (41).jpg', 'Six_full (680).jpg', 'Two_full (963).jpg', 'Four_full (968).jpg', 'Seven_full (915).jpg', 'Zero_full (1145).jpg', 'Five_full (1396).jpg', 'Six_full (1130).jpg', 'Three_full (725).jpg', 'Eight_full (264).jpg', 'One_full (711).jpg', 'Nine_full (634).jpg', 'Seven_full (705).jpg', 'Zero_full (19).jpg', 'Four_full (726).jpg', 'Zero_full (890).jpg', 'Four_full (961).jpg', 'Nine_full (638).jpg', 'Four_full (948).jpg', 'Five_full (229).jpg', 'Four_full (293).jpg', 'Four_full (242).jpg', 'Two_full (931).jpg', 'Five_full (689).jpg', 'Six_full (679).jpg', 'Two_full (232).jpg', 'Four_full (987).jpg', 'Zero_full (49).jpg', 'One_full (728).jpg', 'One_full (228).jpg', 'Two_full (1197).jpg', 'Zero_full (4).jpg', 'Zero_full (26).jpg', 'Six_full (41).jpg', 'Two_full (972).jpg', 'Zero_full (721).jpg', 'Four_full (291).jpg', 'Zero_full (17).jpg', 'Eight_full (265).jpg', 'Eight_full (1092).jpg', 'Nine_full (866).jpg', 'Nine_full (1308).jpg', 'Six_full (675).jpg', 'One_full (840).jpg', 'Seven_full (718).jpg', 'Five_full (709).jpg', 'Eight_full (263).jpg', 'Nine_full (220).jpg', 'Three_full (1139).jpg', 'Zero_full (214).jpg', 'Eight_full (39).jpg', 'Five_full (711).jpg', 'Five_full (958).jpg', 'Zero_full (10).jpg', 'One_full (925).jpg', 'Two_full (982).jpg', 'Five_full (932).jpg', 'Two_full (1079).jpg', 'Zero_full (917).jpg', 'Two_full (231).jpg', 'Three_full (724).jpg', 'One_full (744).jpg', 'Nine_full (626).jpg', 'Four_full (1007).jpg', 'Seven_full (1400).jpg', 'Five_full (278).jpg', 'Nine_full (1286).jpg', 'Seven_full (927).jpg', 'Five_full (238).jpg', 'Four_full (932).jpg', 'Five_full (281).jpg', 'Zero_full (902).jpg', 'Eight_full (38).jpg', 'Two_full (33).jpg', 'Eight_full (670).jpg', 'Three_full (718).jpg', 'Zero_full (929).jpg', 'Three_full (941).jpg', 'Nine_full (671).jpg', 'Six_full (958).jpg', 'One_full (847).jpg', 'Six_full (926).jpg', 'Nine_full (267).jpg', 'Five_full (705).jpg', 'Seven_full (701).jpg', 'Six_full (685).jpg', 'Four_full (952).jpg', 'Six_full (1408).jpg', 'Three_full (188).jpg', 'Zero_full (702).jpg', 'One_full (747).jpg', 'Nine_full (43).jpg', 'Five_full (734).jpg', 'Five_full (735).jpg', 'Five_full (717).jpg', 'Three_full (700).jpg', 'Three_full (45).jpg', 'Eight_full (667).jpg', 'Two_full (1463).jpg', 'Six_full (719).jpg', 'Eight_full (267).jpg', 'Nine_full (849).jpg', 'Nine_full (880).jpg', 'Five_full (946).jpg', 'Five_full (230).jpg', 'Four_full (951).jpg', 'Seven_full (955).jpg', 'One_full (758).jpg', 'Zero_full (666).jpg', 'Five_full (920).jpg', 'Nine_full (674).jpg', 'Nine_full (663).jpg', 'Eight_full (228).jpg', 'Nine_full (36).jpg', 'Six_full (34).jpg', 'Five_full (829).jpg', 'Zero_full (815).jpg', 'Three_full (940).jpg', 'One_full (953).jpg', 'Five_full (937).jpg', 'Six_full (896).jpg', 'Five_full (275).jpg', 'Zero_full (46).jpg', 'Nine_full (855).jpg', 'Eight_full (663).jpg', 'Five_full (719).jpg', 'Three_full (1429).jpg', 'Seven_full (968).jpg', 'Six_full (1396).jpg', 'One_full (725).jpg', 'Zero_full (688).jpg', 'Four_full (969).jpg', 'Three_full (180).jpg', 'Four_full (980).jpg', 'Six_full (957).jpg', 'One_full (703).jpg', 'Three_full (1437).jpg', 'Five_full (1393).jpg', 'Eight_full (679).jpg', 'Nine_full (655).jpg', 'Nine_full (646).jpg', 'Zero_full (896).jpg', 'Nine_full (650).jpg', 'Two_full (234).jpg', 'One_full (33).jpg', 'Eight_full (1353).jpg', 'Three_full (1435).jpg', 'Eight_full (33).jpg', 'Two_full (957).jpg', 'Seven_full (695).jpg', 'Four_full (284).jpg', 'One_full (40).jpg', 'Eight_full (660).jpg', 'Nine_full (270).jpg', 'Nine_full (1295).jpg', 'Six_full (934).jpg', 'Six_full (921).jpg', 'Six_full (688).jpg', 'Four_full (1474).jpg', 'Four_full (725).jpg', 'Two_full (955).jpg', 'Five_full (697).jpg', 'One_full (911).jpg', 'Two_full (919).jpg', 'Five_full (279).jpg', 'Six_full (696).jpg', 'Seven_full (43).jpg', 'Three_full (676).jpg', 'Zero_full (5).jpg', 'Seven_full (929).jpg', 'Six_full (1403).jpg', 'Six_full (956).jpg', 'Three_full (719).jpg', 'Seven_full (689).jpg', 'Zero_full (1147).jpg', 'Four_full (1447).jpg', 'Six_full (900).jpg', 'Two_full (986).jpg', 'Eight_full (898).jpg', 'Six_full (1389).jpg', 'Eight_full (219).jpg', 'Six_full (904).jpg', 'Zero_full (891).jpg', 'Three_full (1141).jpg', 'Four_full (953).jpg', 'Two_full (1073).jpg', 'Five_full (915).jpg', 'Six_full (972).jpg', 'Nine_full (681).jpg', 'Six_full (930).jpg', 'Seven_full (941).jpg', 'Four_full (1185).jpg', 'Seven_full (715).jpg', 'Five_full (1408).jpg', 'Five_full (934).jpg', 'Four_full (976).jpg', 'Zero_full (28).jpg', 'Nine_full (1305).jpg', 'Seven_full (714).jpg', 'Two_full (195).jpg', 'Three_full (720).jpg', 'Two_full (944).jpg', 'Four_full (715).jpg', 'Six_full (1411).jpg', 'Nine_full (846).jpg', 'Seven_full (965).jpg', 'Eight_full (683).jpg', 'Three_full (41).jpg', 'Four_full (236).jpg', 'One_full (223).jpg', 'Three_full (671).jpg', 'Five_full (1135).jpg', 'Eight_full (706).jpg', 'Eight_full (662).jpg', 'One_full (742).jpg', 'Eight_full (668).jpg', 'Four_full (722).jpg', 'Seven_full (720).jpg', 'Four_full (1011).jpg', 'Seven_full (271).jpg', 'One_full (686).jpg', 'Eight_full (34).jpg', 'Five_full (942).jpg', 'Four_full (964).jpg', 'One_full (701).jpg', 'One_full (936).jpg', 'Two_full (917).jpg', 'Nine_full (1298).jpg', 'Nine_full (223).jpg', 'Six_full (901).jpg', 'Six_full (674).jpg', 'Three_full (1420).jpg', 'Four_full (713).jpg', 'One_full (732).jpg', 'Seven_full (283).jpg', 'Three_full (679).jpg', 'Six_full (695).jpg', 'Five_full (912).jpg', 'Four_full (1207).jpg', 'One_full (954).jpg', 'Five_full (1132).jpg', 'Three_full (937).jpg', 'Nine_full (856).jpg', 'Eight_full (953).jpg', 'Five_full (943).jpg', 'Two_full (43).jpg', 'Four_full (734).jpg', 'Four_full (717).jpg', 'Four_full (718).jpg', 'One_full (1208).jpg', 'Five_full (1392).jpg', 'Five_full (237).jpg', 'Eight_full (895).jpg', 'Seven_full (1399).jpg', 'Eight_full (1365).jpg', 'One_full (745).jpg', 'Eight_full (707).jpg', 'Zero_full (715).jpg', 'Eight_full (920).jpg', 'Seven_full (232).jpg', 'Six_full (923).jpg', 'Six_full (1401).jpg', 'Three_full (1410).jpg', 'Nine_full (665).jpg', 'Six_full (976).jpg', 'Seven_full (704).jpg', 'Five_full (724).jpg', 'Six_full (826).jpg', 'Eight_full (666).jpg', 'Seven_full (1411).jpg', 'Two_full (910).jpg', 'Five_full (690).jpg', 'Seven_full (939).jpg', 'Two_full (1442).jpg', 'Zero_full (689).jpg', 'Two_full (239).jpg', 'Zero_full (675).jpg', 'Five_full (726).jpg', 'Four_full (973).jpg', 'Three_full (667).jpg', 'Three_full (1052).jpg', 'Zero_full (47).jpg', 'Three_full (42).jpg', 'Nine_full (1055).jpg', 'Five_full (974).jpg', 'Three_full (1422).jpg', 'Nine_full (664).jpg', 'Eight_full (220).jpg', 'Four_full (998).jpg', 'Six_full (698).jpg', 'Three_full (1412).jpg', 'Six_full (949).jpg', 'Eight_full (221).jpg', 'One_full (949).jpg', 'Five_full (731).jpg', 'Nine_full (659).jpg', 'Eight_full (902).jpg', 'Nine_full (673).jpg', 'Two_full (1200).jpg', 'Eight_full (915).jpg', 'Zero_full (170).jpg', 'One_full (922).jpg', 'Nine_full (682).jpg', 'Zero_full (173).jpg', 'Seven_full (935).jpg', 'Six_full (828).jpg', 'Eight_full (884).jpg', 'Zero_full (907).jpg', 'Two_full (950).jpg', 'Three_full (194).jpg', 'Seven_full (914).jpg', 'Six_full (716).jpg', 'Six_full (927).jpg', 'Eight_full (691).jpg', 'Four_full (995).jpg', 'Five_full (914).jpg', 'Nine_full (224).jpg', 'Four_full (1451).jpg', 'Two_full (914).jpg', 'Five_full (703).jpg', 'Two_full (923).jpg', 'Five_full (695).jpg', 'Seven_full (938).jpg', 'Three_full (945).jpg', 'Three_full (887).jpg', 'Two_full (926).jpg', 'Six_full (671).jpg', 'Seven_full (1402).jpg', 'Three_full (944).jpg', 'Four_full (723).jpg', 'Five_full (272).jpg', 'Four_full (984).jpg', 'Two_full (938).jpg', 'Four_full (237).jpg', 'Nine_full (265).jpg', 'Two_full (184).jpg', 'Three_full (1417).jpg', 'Eight_full (910).jpg', 'Zero_full (669).jpg', 'Two_full (1161).jpg', 'Nine_full (222).jpg', 'Three_full (1423).jpg', 'Four_full (709).jpg', 'Zero_full (18).jpg', 'Four_full (957).jpg', 'Four_full (249).jpg', 'Eight_full (943).jpg', 'One_full (189).jpg', 'Nine_full (832).jpg', 'Nine_full (884).jpg', 'Eight_full (218).jpg', 'Two_full (1082).jpg', 'One_full (705).jpg', 'Three_full (1140).jpg', 'Nine_full (32).jpg', 'Six_full (672).jpg', 'Six_full (822).jpg', 'Seven_full (972).jpg', 'Zero_full (677).jpg', 'Three_full (943).jpg', 'Six_full (676).jpg', 'Eight_full (229).jpg', 'Three_full (927).jpg', 'One_full (838).jpg', 'Four_full (285).jpg', 'Nine_full (1312).jpg', 'Zero_full (705).jpg', 'Eight_full (223).jpg', 'Seven_full (234).jpg', 'Eight_full (701).jpg', 'Two_full (915).jpg', 'Two_full (925).jpg', 'Six_full (700).jpg', 'Seven_full (951).jpg', 'One_full (759).jpg', 'Seven_full (1388).jpg', 'Five_full (46).jpg', 'Two_full (1179).jpg', 'Five_full (1414).jpg', 'Four_full (282).jpg', 'Eight_full (921).jpg', 'Four_full (934).jpg', 'Three_full (1430).jpg', 'Five_full (698).jpg', 'One_full (721).jpg', 'Zero_full (884).jpg', 'Two_full (968).jpg', 'Three_full (939).jpg', 'One_full (727).jpg', 'Zero_full (719).jpg', 'Nine_full (841).jpg', 'Seven_full (280).jpg', 'Two_full (941).jpg', 'Three_full (1415).jpg', 'Zero_full (704).jpg', 'Zero_full (895).jpg', 'Seven_full (943).jpg', 'Six_full (935).jpg', 'Two_full (922).jpg', 'Two_full (952).jpg', 'Zero_full (164).jpg', 'Nine_full (41).jpg', 'Eight_full (914).jpg', 'Eight_full (908).jpg', 'Seven_full (920).jpg', 'Four_full (956).jpg', 'Nine_full (1315).jpg', 'Five_full (957).jpg', 'Three_full (925).jpg', 'Seven_full (924).jpg', 'Four_full (1461).jpg', 'Four_full (940).jpg', 'One_full (918).jpg', 'Nine_full (639).jpg', 'Eight_full (896).jpg', 'Two_full (1174).jpg', 'Three_full (44).jpg', 'One_full (848).jpg', 'Three_full (672).jpg', 'Nine_full (656).jpg', 'Nine_full (31).jpg', 'Eight_full (678).jpg', 'Three_full (668).jpg', 'Five_full (981).jpg', 'Eight_full (44).jpg', 'Zero_full (900).jpg', 'Three_full (687).jpg', 'Seven_full (926).jpg', 'Nine_full (640).jpg', 'Eight_full (1375).jpg', 'Five_full (953).jpg', 'Four_full (986).jpg', 'Zero_full (664).jpg', 'One_full (186).jpg', 'Nine_full (662).jpg', 'Three_full (716).jpg', 'One_full (938).jpg', 'Five_full (913).jpg', 'Zero_full (175).jpg', 'Three_full (1144).jpg', 'Seven_full (32).jpg', 'Nine_full (876).jpg', 'One_full (913).jpg', 'Zero_full (717).jpg', 'Three_full (948).jpg', 'Zero_full (679).jpg', 'Zero_full (54).jpg', 'Seven_full (228).jpg', 'Seven_full (274).jpg', 'Five_full (276).jpg', 'Six_full (913).jpg', 'Two_full (1448).jpg', 'Zero_full (931).jpg', 'Eight_full (888).jpg', 'Seven_full (960).jpg', 'Four_full (283).jpg', 'Four_full (728).jpg', 'Five_full (961).jpg', 'Six_full (693).jpg', 'Two_full (965).jpg', 'Five_full (270).jpg', 'One_full (752).jpg', 'Six_full (946).jpg', 'Two_full (942).jpg', 'Three_full (1167).jpg', 'Seven_full (909).jpg', 'Nine_full (1311).jpg', 'Six_full (706).jpg', 'Five_full (729).jpg', 'Zero_full (720).jpg', 'Eight_full (222).jpg', 'Three_full (1432).jpg', 'Seven_full (967).jpg', 'Seven_full (225).jpg', 'Eight_full (694).jpg', 'Nine_full (684).jpg', 'Zero_full (667).jpg', 'Three_full (916).jpg', 'One_full (743).jpg', 'Zero_full (817).jpg', 'Zero_full (27).jpg', 'One_full (734).jpg', 'Eight_full (710).jpg', 'Zero_full (53).jpg', 'Eight_full (1097).jpg', 'Five_full (922).jpg', 'Three_full (942).jpg', 'Nine_full (1310).jpg', 'Seven_full (950).jpg', 'Two_full (45).jpg', 'Eight_full (669).jpg', 'Three_full (1426).jpg', 'Three_full (1424).jpg', 'One_full (187).jpg', 'Nine_full (873).jpg', 'Nine_full (33).jpg', 'Seven_full (685).jpg', 'Two_full (237).jpg', 'Four_full (247).jpg', 'Six_full (1126).jpg', 'One_full (1466).jpg', 'Five_full (950).jpg', 'Four_full (720).jpg', 'Nine_full (1039).jpg', 'One_full (730).jpg', 'Two_full (920).jpg', 'One_full (1471).jpg', 'Five_full (938).jpg', 'Seven_full (956).jpg', 'Five_full (969).jpg', 'Seven_full (961).jpg', 'Four_full (1012).jpg', 'Two_full (34).jpg', 'Six_full (681).jpg', 'Two_full (228).jpg', 'Six_full (1397).jpg', 'One_full (944).jpg', 'Four_full (735).jpg', 'Four_full (1446).jpg', 'Five_full (44).jpg', 'Nine_full (37).jpg', 'Nine_full (219).jpg', 'Zero_full (933).jpg', 'Seven_full (1385).jpg', 'Five_full (926).jpg', 'Four_full (1473).jpg', 'Six_full (727).jpg', 'Seven_full (930).jpg', 'Nine_full (672).jpg', 'Seven_full (976).jpg', 'Nine_full (680).jpg', 'Two_full (978).jpg', 'Nine_full (657).jpg', 'Nine_full (1293).jpg', 'Seven_full (932).jpg', 'One_full (689).jpg', 'Two_full (1172).jpg', 'Zero_full (167).jpg', 'Two_full (946).jpg', 'Five_full (716).jpg', 'Seven_full (964).jpg', 'Eight_full (1379).jpg', 'Two_full (956).jpg', 'Two_full (235).jpg', 'Three_full (666).jpg', 'Nine_full (628).jpg', 'Four_full (1457).jpg', 'Zero_full (23).jpg', 'One_full (930).jpg', 'Nine_full (835).jpg', 'Nine_full (1290).jpg', 'Four_full (981).jpg', 'Six_full (686).jpg', 'Five_full (978).jpg', 'Two_full (1170).jpg', 'One_full (37).jpg', 'One_full (1477).jpg', 'Zero_full (897).jpg', 'One_full (754).jpg', 'Three_full (683).jpg', 'One_full (912).jpg', 'Five_full (1413).jpg', 'One_full (42).jpg', 'Five_full (977).jpg', 'One_full (179).jpg', 'Three_full (935).jpg', 'One_full (731).jpg', 'One_full (735).jpg', 'Eight_full (699).jpg', 'Eight_full (1363).jpg', 'Six_full (925).jpg', 'Two_full (1456).jpg', 'Four_full (710).jpg', 'One_full (910).jpg', 'Six_full (903).jpg', 'One_full (940).jpg', 'One_full (923).jpg', 'Eight_full (704).jpg', 'Six_full (678).jpg', 'Four_full (1186).jpg', 'Five_full (1154).jpg', 'Four_full (965).jpg', 'Nine_full (887).jpg', 'Nine_full (857).jpg', 'One_full (43).jpg', 'Seven_full (940).jpg', 'Eight_full (928).jpg', 'Six_full (912).jpg', 'Three_full (670).jpg', 'Three_full (955).jpg', 'Three_full (717).jpg', 'Eight_full (909).jpg', 'Five_full (979).jpg', 'Zero_full (168).jpg', 'One_full (184).jpg', 'Nine_full (633).jpg', 'Eight_full (671).jpg', 'Two_full (988).jpg', 'Five_full (685).jpg', 'Nine_full (885).jpg', 'One_full (939).jpg', 'Three_full (1146).jpg', 'Nine_full (864).jpg', 'One_full (708).jpg', 'Three_full (1411).jpg', 'Five_full (897).jpg', 'Four_full (1465).jpg', 'Four_full (753).jpg', 'Three_full (915).jpg', 'Four_full (708).jpg', 'Zero_full (12).jpg', 'Three_full (933).jpg', 'Two_full (951).jpg', 'Four_full (1448).jpg', 'Three_full (1053).jpg', 'Four_full (955).jpg', 'Six_full (933).jpg', 'Two_full (1446).jpg', 'Eight_full (904).jpg', 'Six_full (1395).jpg', 'Three_full (699).jpg', 'Seven_full (957).jpg', 'Seven_full (707).jpg', 'Four_full (1460).jpg', 'Six_full (959).jpg', 'Zero_full (1181).jpg', 'Three_full (1147).jpg', 'Zero_full (673).jpg', 'Three_full (918).jpg', 'Three_full (693).jpg', 'Seven_full (721).jpg', 'Three_full (34).jpg', 'Six_full (715).jpg', 'Four_full (967).jpg', 'Two_full (990).jpg', 'Seven_full (277).jpg', 'Six_full (720).jpg', 'Nine_full (658).jpg', 'Nine_full (850).jpg', 'Three_full (1434).jpg', 'Six_full (940).jpg', 'Two_full (970).jpg', 'Four_full (238).jpg', 'Zero_full (711).jpg', 'Two_full (911).jpg', 'Four_full (982).jpg', 'Two_full (947).jpg', 'Six_full (919).jpg', 'One_full (717).jpg', 'Three_full (949).jpg', 'Six_full (902).jpg', 'Seven_full (270).jpg', 'Four_full (761).jpg', 'Six_full (1129).jpg', 'Six_full (36).jpg', 'Two_full (1453).jpg', 'One_full (741).jpg', 'Seven_full (735).jpg', 'Six_full (33).jpg', 'Zero_full (905).jpg', 'Nine_full (858).jpg', 'Four_full (1455).jpg', 'Four_full (954).jpg', 'Two_full (1458).jpg', 'Nine_full (661).jpg', 'Eight_full (1364).jpg', 'Nine_full (627).jpg', 'Four_full (996).jpg', 'Five_full (699).jpg', 'Zero_full (918).jpg', 'Six_full (40).jpg', 'Zero_full (210).jpg', 'Seven_full (722).jpg', 'Zero_full (701).jpg', 'Two_full (953).jpg', 'Eight_full (1358).jpg', 'Three_full (886).jpg', 'Nine_full (1307).jpg', 'Three_full (1438).jpg', 'Nine_full (660).jpg', 'Zero_full (672).jpg', 'Eight_full (897).jpg', 'Four_full (1452).jpg', 'Three_full (926).jpg', 'Three_full (900).jpg', 'Two_full (1169).jpg', 'Five_full (939).jpg', 'Nine_full (1297).jpg', 'Seven_full (921).jpg', 'Seven_full (231).jpg', 'One_full (753).jpg', 'Eight_full (893).jpg', 'Zero_full (910).jpg', 'Four_full (1469).jpg', 'Nine_full (1300).jpg', 'Zero_full (21).jpg', 'Five_full (707).jpg', 'Five_full (1400).jpg', 'One_full (1474).jpg', 'Eight_full (942).jpg', 'Two_full (1165).jpg', 'Five_full (704).jpg', 'Four_full (289).jpg', 'Four_full (991).jpg', 'Nine_full (260).jpg', 'Zero_full (906).jpg', 'Two_full (984).jpg', 'Eight_full (1095).jpg', 'Zero_full (707).jpg', 'Eight_full (1374).jpg', 'Three_full (705).jpg', 'Five_full (948).jpg', 'Zero_full (926).jpg', 'Eight_full (930).jpg', 'Five_full (984).jpg', 'Two_full (1173).jpg', 'Four_full (1453).jpg', 'Zero_full (56).jpg', 'One_full (226).jpg', 'Six_full (673).jpg', 'Four_full (1458).jpg', 'Five_full (714).jpg', 'Five_full (941).jpg', 'Four_full (947).jpg', 'Five_full (680).jpg', 'One_full (30).jpg', 'Four_full (1467).jpg', 'Two_full (229).jpg', 'Seven_full (973).jpg', 'One_full (942).jpg', 'Nine_full (845).jpg', 'Three_full (709).jpg', 'Five_full (226).jpg', 'Two_full (1080).jpg', 'Zero_full (219).jpg', 'Three_full (956).jpg', 'Three_full (190).jpg', 'Three_full (931).jpg', 'Seven_full (41).jpg', 'Two_full (906).jpg', 'Nine_full (652).jpg', 'Zero_full (670).jpg', 'Seven_full (233).jpg', 'Eight_full (1367).jpg', 'Nine_full (259).jpg', 'Four_full (292).jpg', 'One_full (698).jpg', 'Zero_full (11).jpg', 'Three_full (911).jpg', 'Three_full (688).jpg', 'One_full (844).jpg', 'Eight_full (693).jpg', 'Eight_full (1356).jpg', 'Four_full (977).jpg', 'Zero_full (216).jpg', 'Three_full (884).jpg', 'Seven_full (45).jpg', 'Zero_full (1182).jpg', 'Five_full (37).jpg', 'Six_full (668).jpg', 'One_full (941).jpg', 'Five_full (916).jpg', 'Six_full (1399).jpg', 'Four_full (245).jpg', 'Zero_full (683).jpg', 'Six_full (906).jpg', 'Two_full (230).jpg', 'Seven_full (731).jpg', 'Five_full (720).jpg', 'Seven_full (974).jpg', 'Zero_full (913).jpg', 'Nine_full (831).jpg', 'Nine_full (262).jpg', 'Three_full (902).jpg', 'Five_full (968).jpg', 'Nine_full (632).jpg', 'Eight_full (697).jpg', 'Zero_full (698).jpg', 'Nine_full (649).jpg', 'Four_full (979).jpg', 'Zero_full (668).jpg', 'One_full (956).jpg', 'Seven_full (698).jpg', 'Five_full (706).jpg', 'Nine_full (1038).jpg', 'Six_full (690).jpg', 'Three_full (32).jpg', 'Three_full (928).jpg', 'One_full (699).jpg', 'Five_full (686).jpg', 'Zero_full (1185).jpg', 'Seven_full (230).jpg', 'One_full (234).jpg', 'One_full (695).jpg', 'Seven_full (716).jpg', 'Nine_full (38).jpg', 'Seven_full (238).jpg', 'Four_full (974).jpg', 'Eight_full (1357).jpg', 'Four_full (248).jpg', 'Five_full (39).jpg', 'Four_full (1014).jpg', 'Zero_full (695).jpg', 'Eight_full (665).jpg', 'Eight_full (1361).jpg', 'Zero_full (681).jpg', 'Zero_full (894).jpg', 'Nine_full (1287).jpg', 'Two_full (1199).jpg', 'Six_full (726).jpg', 'Six_full (907).jpg', 'Nine_full (1288).jpg', 'Eight_full (685).jpg', 'Eight_full (711).jpg', 'One_full (836).jpg', 'Nine_full (215).jpg', 'Four_full (1006).jpg', 'Five_full (923).jpg', 'Nine_full (631).jpg', 'Nine_full (848).jpg', 'Zero_full (52).jpg', 'Three_full (1413).jpg', 'Nine_full (218).jpg', 'Two_full (932).jpg', 'Three_full (901).jpg', 'Eight_full (1380).jpg', 'Six_full (1412).jpg', 'Two_full (1167).jpg', 'Six_full (1406).jpg', 'One_full (231).jpg', 'Seven_full (933).jpg', 'Seven_full (1410).jpg', 'Zero_full (20).jpg', 'Five_full (924).jpg', 'Zero_full (222).jpg', 'One_full (707).jpg', 'One_full (181).jpg', 'Seven_full (947).jpg', 'Six_full (707).jpg', 'Five_full (955).jpg', 'Four_full (281).jpg', 'Zero_full (691).jpg', 'Zero_full (208).jpg', 'Four_full (939).jpg', 'Nine_full (1301).jpg', 'Three_full (678).jpg', 'Four_full (945).jpg', 'Five_full (228).jpg', 'Zero_full (923).jpg', 'Three_full (1151).jpg', 'Eight_full (664).jpg', 'Six_full (932).jpg', 'Eight_full (1370).jpg', 'One_full (955).jpg', 'Zero_full (920).jpg', 'Four_full (958).jpg', 'Four_full (1463).jpg', 'Eight_full (906).jpg', 'Six_full (819).jpg', 'Nine_full (39).jpg', 'Five_full (973).jpg', 'Zero_full (57).jpg', 'Three_full (958).jpg', 'Four_full (1470).jpg', 'One_full (225).jpg', 'Two_full (38).jpg', 'One_full (1211).jpg', 'One_full (237).jpg', 'Two_full (1466).jpg', 'Seven_full (235).jpg', 'Zero_full (176).jpg', 'Five_full (42).jpg', 'Eight_full (907).jpg', 'Eight_full (714).jpg', 'Seven_full (725).jpg', 'Seven_full (728).jpg', 'Seven_full (717).jpg', 'Seven_full (34).jpg', 'Two_full (939).jpg', 'Two_full (980).jpg', 'Zero_full (212).jpg', 'Four_full (1010).jpg', 'One_full (39).jpg', 'Five_full (36).jpg', 'Four_full (1466).jpg', 'Nine_full (221).jpg', 'Three_full (923).jpg', 'Five_full (972).jpg', 'Five_full (725).jpg', 'Four_full (1187).jpg', 'Seven_full (697).jpg', 'Nine_full (859).jpg', 'Nine_full (905).jpg', 'Two_full (930).jpg', 'Three_full (1427).jpg', 'Eight_full (905).jpg', 'Seven_full (959).jpg', 'Five_full (940).jpg', 'Six_full (1405).jpg', 'Four_full (1205).jpg', 'Two_full (1171).jpg', 'Five_full (975).jpg', 'Four_full (762).jpg', 'Seven_full (706).jpg', 'Three_full (1419).jpg', 'Zero_full (221).jpg', 'Three_full (932).jpg', 'Six_full (1407).jpg', 'Four_full (244).jpg', 'Zero_full (898).jpg', 'Six_full (712).jpg', 'Nine_full (871).jpg', 'Three_full (706).jpg', 'Four_full (763).jpg', 'Nine_full (670).jpg', 'Two_full (979).jpg', 'Four_full (286).jpg', 'Seven_full (1386).jpg', 'Three_full (1409).jpg', 'Seven_full (923).jpg', 'One_full (32).jpg', 'Six_full (977).jpg', 'Five_full (232).jpg', 'Two_full (1072).jpg', 'Zero_full (217).jpg', 'Six_full (916).jpg', 'Nine_full (839).jpg', 'Zero_full (901).jpg', 'Six_full (967).jpg', 'One_full (36).jpg', 'Six_full (953).jpg', 'Nine_full (630).jpg', 'Three_full (1425).jpg', 'Six_full (938).jpg', 'Zero_full (16).jpg', 'One_full (230).jpg', 'Three_full (953).jpg', 'Four_full (993).jpg', 'Four_full (972).jpg', 'Six_full (936).jpg', 'Two_full (32).jpg', 'Seven_full (279).jpg', 'One_full (714).jpg', 'Six_full (722).jpg', 'Nine_full (882).jpg', 'Two_full (933).jpg', 'Zero_full (915).jpg', 'Nine_full (1314).jpg', 'One_full (739).jpg', 'Six_full (910).jpg', 'Four_full (1008).jpg', 'Six_full (723).jpg', 'One_full (749).jpg', 'Zero_full (1180).jpg', 'Zero_full (694).jpg', 'Zero_full (22).jpg', 'Seven_full (226).jpg', 'Seven_full (278).jpg', 'Seven_full (36).jpg', 'Three_full (919).jpg', 'Six_full (942).jpg', 'Zero_full (697).jpg', 'Three_full (1138).jpg', 'Nine_full (830).jpg', 'Four_full (732).jpg', 'One_full (236).jpg', 'Zero_full (1179).jpg', 'Eight_full (227).jpg', 'One_full (952).jpg', 'Zero_full (213).jpg', 'One_full (934).jpg', 'Two_full (975).jpg', 'Six_full (820).jpg', 'One_full (958).jpg', 'Four_full (757).jpg', 'Zero_full (13).jpg', 'Three_full (909).jpg', 'Nine_full (35).jpg', 'Four_full (733).jpg', 'Eight_full (886).jpg', 'Eight_full (689).jpg', 'Five_full (733).jpg', 'Seven_full (732).jpg', 'Eight_full (1096).jpg', 'Nine_full (852).jpg', 'Six_full (721).jpg', 'Zero_full (925).jpg', 'Six_full (950).jpg', 'Three_full (185).jpg', 'Seven_full (737).jpg', 'Nine_full (837).jpg', 'Zero_full (9).jpg', 'Eight_full (899).jpg', 'Two_full (976).jpg', 'Four_full (290).jpg', 'Six_full (908).jpg', 'Three_full (187).jpg', 'Three_full (43).jpg', 'One_full (746).jpg', 'Eight_full (231).jpg', 'Zero_full (938).jpg', 'Nine_full (851).jpg', 'Nine_full (829).jpg', 'Two_full (1168).jpg', 'Eight_full (272).jpg', 'Zero_full (51).jpg', 'Eight_full (1373).jpg', 'Three_full (934).jpg', 'Zero_full (700).jpg', 'Nine_full (642).jpg', 'Nine_full (653).jpg', 'One_full (182).jpg', 'Two_full (40).jpg', 'Four_full (758).jpg', 'Six_full (961).jpg', 'Nine_full (264).jpg', 'Zero_full (48).jpg', 'Two_full (1162).jpg', 'Six_full (713).jpg', 'Two_full (943).jpg', 'Two_full (187).jpg', 'Three_full (673).jpg', 'Six_full (824).jpg', 'Six_full (939).jpg', 'Two_full (236).jpg', 'Six_full (1387).jpg', 'Five_full (980).jpg', 'One_full (232).jpg', 'Eight_full (31).jpg', 'Six_full (710).jpg', 'Five_full (41).jpg', 'Six_full (915).jpg', 'One_full (733).jpg', 'Four_full (759).jpg', 'Seven_full (727).jpg', 'Four_full (766).jpg', 'Eight_full (1377).jpg', 'Eight_full (715).jpg', 'Two_full (1083).jpg', 'Three_full (938).jpg', 'Zero_full (911).jpg', 'Eight_full (890).jpg', 'Zero_full (914).jpg', 'Five_full (225).jpg', 'Zero_full (50).jpg', 'Four_full (1468).jpg', 'Five_full (34).jpg', 'Nine_full (872).jpg', 'One_full (697).jpg', 'Seven_full (708).jpg', 'Six_full (687).jpg', 'Six_full (823).jpg', 'Five_full (965).jpg', 'Two_full (969).jpg', 'Six_full (929).jpg', 'Eight_full (889).jpg', 'Seven_full (692).jpg', 'Six_full (969).jpg', 'Zero_full (663).jpg', 'Four_full (1456).jpg', 'Five_full (710).jpg', 'Seven_full (688).jpg', 'Seven_full (958).jpg', 'Nine_full (269).jpg', 'Two_full (1452).jpg', 'Three_full (930).jpg', 'Eight_full (226).jpg', 'Nine_full (226).jpg', 'Two_full (36).jpg', 'Two_full (227).jpg', 'Seven_full (284).jpg', 'Four_full (963).jpg', 'Four_full (960).jpg', 'Seven_full (40).jpg', 'Seven_full (275).jpg', 'Four_full (966).jpg', 'Seven_full (693).jpg', 'Five_full (929).jpg', 'One_full (31).jpg', 'Three_full (722).jpg', 'Four_full (730).jpg', 'Nine_full (666).jpg', 'Five_full (732).jpg', 'Nine_full (629).jpg', 'Seven_full (1382).jpg', 'Zero_full (14).jpg', 'Five_full (40).jpg', 'Two_full (1440).jpg', 'Nine_full (654).jpg', 'Five_full (233).jpg', 'Eight_full (232).jpg', 'One_full (933).jpg', 'Nine_full (1313).jpg', 'Five_full (738).jpg', 'Five_full (271).jpg', 'Two_full (940).jpg', 'Seven_full (691).jpg', 'Two_full (186).jpg', 'Five_full (696).jpg', 'Three_full (936).jpg', 'Eight_full (672).jpg', 'Two_full (1166).jpg', 'Nine_full (675).jpg', 'Nine_full (867).jpg', 'Nine_full (869).jpg', 'Six_full (1414).jpg', 'One_full (188).jpg', 'Seven_full (954).jpg', 'Six_full (708).jpg', 'Six_full (42).jpg', 'Zero_full (937).jpg', 'Six_full (1146).jpg', 'Three_full (674).jpg', 'Seven_full (1390).jpg', 'Two_full (936).jpg', 'Three_full (903).jpg', 'Four_full (161).jpg', 'Five_full (701).jpg', 'Four_full (959).jpg', 'Zero_full (887).jpg', 'Five_full (964).jpg', 'Two_full (1447).jpg', 'Eight_full (277).jpg', 'Two_full (948).jpg', 'Nine_full (868).jpg', 'Three_full (921).jpg', 'Two_full (1459).jpg', 'Three_full (1148).jpg', 'Five_full (918).jpg', 'Four_full (944).jpg', 'Two_full (949).jpg', 'Four_full (235).jpg', 'Six_full (1404).jpg', 'One_full (920).jpg', 'Zero_full (927).jpg', 'Three_full (929).jpg', 'Zero_full (934).jpg', 'Nine_full (216).jpg', 'Four_full (1206).jpg', 'Nine_full (261).jpg', 'Zero_full (696).jpg', 'Four_full (1003).jpg', 'Two_full (46).jpg', 'Six_full (964).jpg', 'Nine_full (842).jpg', 'Zero_full (1184).jpg', 'One_full (712).jpg', 'Five_full (966).jpg', 'Seven_full (734).jpg', 'Seven_full (912).jpg', 'Four_full (1204).jpg', 'Five_full (239).jpg', 'Four_full (724).jpg', 'Two_full (977).jpg', 'Six_full (35).jpg', 'Two_full (954).jpg', 'One_full (1465).jpg', 'Six_full (725).jpg', 'Three_full (1142).jpg', 'One_full (950).jpg', 'Two_full (981).jpg', 'Zero_full (671).jpg', 'Eight_full (957).jpg', 'Nine_full (225).jpg', 'Six_full (898).jpg', 'Two_full (928).jpg', 'One_full (729).jpg', 'Six_full (38).jpg', 'Four_full (760).jpg', 'Eight_full (692).jpg', 'Eight_full (1352).jpg', 'Six_full (928).jpg', 'Four_full (988).jpg', 'Zero_full (674).jpg', 'Two_full (1460).jpg', 'Five_full (949).jpg', 'Six_full (703).jpg', 'One_full (748).jpg', 'Five_full (274).jpg', 'One_full (945).jpg', 'Five_full (712).jpg', 'Four_full (1000).jpg', 'Eight_full (916).jpg', 'Six_full (937).jpg', 'Seven_full (931).jpg', 'Seven_full (970).jpg', 'Six_full (960).jpg', 'Zero_full (886).jpg', 'Eight_full (36).jpg', 'Two_full (1081).jpg', 'Nine_full (273).jpg', 'Three_full (689).jpg', 'Seven_full (683).jpg', 'Five_full (944).jpg', 'Eight_full (661).jpg', 'Eight_full (680).jpg', 'Seven_full (1405).jpg', 'Nine_full (860).jpg', 'Two_full (185).jpg', 'Six_full (968).jpg', 'Five_full (971).jpg', 'Zero_full (218).jpg', 'Two_full (1159).jpg', 'Zero_full (1178).jpg', 'One_full (841).jpg', 'One_full (757).jpg', 'Five_full (234).jpg', 'Five_full (986).jpg', 'Seven_full (272).jpg', 'Nine_full (1289).jpg', 'Seven_full (38).jpg', 'Eight_full (266).jpg', 'Two_full (937).jpg', 'Four_full (764).jpg', 'One_full (190).jpg', 'Eight_full (41).jpg', 'Four_full (997).jpg', 'Seven_full (1389).jpg', 'Five_full (273).jpg', 'Seven_full (946).jpg', 'Two_full (960).jpg', 'Two_full (1467).jpg', 'Five_full (236).jpg', 'Four_full (1002).jpg', 'Nine_full (272).jpg', 'One_full (690).jpg', 'Seven_full (963).jpg', 'Six_full (952).jpg', 'Four_full (1009).jpg', 'Nine_full (268).jpg', 'One_full (846).jpg', 'Eight_full (676).jpg', 'Three_full (957).jpg', 'Eight_full (952).jpg', 'One_full (185).jpg', 'Six_full (818).jpg', 'Six_full (699).jpg', 'Seven_full (273).jpg', 'Five_full (982).jpg', 'Seven_full (971).jpg', 'Two_full (1449).jpg', 'Three_full (711).jpg', 'Eight_full (917).jpg', 'Nine_full (1302).jpg', 'Eight_full (274).jpg', 'Nine_full (1296).jpg', 'Seven_full (1387).jpg', 'Seven_full (710).jpg', 'Three_full (33).jpg', 'Seven_full (42).jpg', 'Four_full (946).jpg', 'Six_full (669).jpg', 'Five_full (683).jpg', 'Eight_full (1090).jpg', 'Three_full (899).jpg', 'One_full (917).jpg', 'Zero_full (885).jpg', 'Five_full (693).jpg', 'Two_full (927).jpg', 'Seven_full (1383).jpg', 'Nine_full (881).jpg', 'Three_full (675).jpg', 'One_full (928).jpg', 'Five_full (921).jpg', 'Zero_full (904).jpg', 'Seven_full (962).jpg', 'Four_full (971).jpg', 'Nine_full (42).jpg', 'Two_full (967).jpg', 'Eight_full (941).jpg', 'One_full (224).jpg', 'Five_full (1401).jpg', 'Seven_full (1408).jpg', 'Eight_full (1360).jpg', 'Five_full (962).jpg', 'One_full (947).jpg', 'Eight_full (705).jpg', 'Six_full (682).jpg', 'Two_full (959).jpg', 'Six_full (821).jpg', 'Nine_full (44).jpg', 'Eight_full (931).jpg', 'Five_full (227).jpg', 'Six_full (670).jpg', 'One_full (704).jpg', 'Two_full (1069).jpg', 'Five_full (954).jpg', 'Eight_full (659).jpg', 'Eight_full (932).jpg', 'Three_full (39).jpg', 'Five_full (936).jpg', 'Five_full (722).jpg', 'Four_full (983).jpg', 'Nine_full (862).jpg', 'Zero_full (676).jpg', 'Five_full (928).jpg', 'Eight_full (891).jpg', 'Zero_full (1144).jpg', 'Five_full (963).jpg', 'Zero_full (892).jpg', 'Nine_full (838).jpg', 'Nine_full (1037).jpg', 'Four_full (240).jpg', 'Seven_full (696).jpg', 'Four_full (937).jpg', 'Three_full (907).jpg', 'Eight_full (698).jpg', 'Five_full (702).jpg', 'Six_full (918).jpg', 'Four_full (239).jpg', 'Four_full (712).jpg', 'Zero_full (718).jpg', 'Three_full (1168).jpg', 'Six_full (1402).jpg', 'Eight_full (271).jpg', 'One_full (948).jpg', 'Nine_full (853).jpg', 'Eight_full (1094).jpg', 'Seven_full (925).jpg', 'Seven_full (969).jpg', 'Five_full (951).jpg', 'Four_full (936).jpg', 'One_full (914).jpg', 'Three_full (710).jpg', 'Nine_full (635).jpg', 'Eight_full (718).jpg', 'Two_full (1071).jpg', 'Seven_full (703).jpg', 'Six_full (941).jpg', 'Six_full (1390).jpg', 'Six_full (917).jpg', 'Zero_full (928).jpg', 'Three_full (690).jpg', 'Four_full (1016).jpg', 'Eight_full (708).jpg', 'Zero_full (706).jpg', 'Six_full (692).jpg', 'Two_full (934).jpg', 'Two_full (958).jpg', 'Eight_full (684).jpg', 'Four_full (721).jpg', 'One_full (706).jpg', 'One_full (696).jpg', 'Two_full (1175).jpg', 'Zero_full (678).jpg', 'Seven_full (913).jpg', 'One_full (943).jpg', 'Eight_full (950).jpg', 'Three_full (183).jpg', 'Five_full (1153).jpg', 'Three_full (1421).jpg', 'One_full (715).jpg', 'Three_full (35).jpg', 'One_full (709).jpg', 'Seven_full (276).jpg', 'Two_full (1177).jpg', 'Zero_full (6).jpg', 'Four_full (243).jpg', 'Nine_full (676).jpg', 'Zero_full (215).jpg', 'Five_full (730).jpg', 'One_full (937).jpg', 'Two_full (233).jpg', 'Nine_full (34).jpg', 'Four_full (975).jpg', 'One_full (957).jpg', 'Seven_full (1396).jpg', 'Two_full (989).jpg', 'Two_full (991).jpg', 'Five_full (925).jpg', 'Five_full (715).jpg', 'Four_full (1471).jpg', 'Six_full (827).jpg', 'Two_full (1178).jpg', 'Nine_full (669).jpg', 'Eight_full (675).jpg', 'Nine_full (834).jpg', 'One_full (740).jpg', 'Six_full (920).jpg', 'Eight_full (681).jpg', 'One_full (685).jpg', 'Four_full (1462).jpg', 'Four_full (938).jpg', 'Four_full (729).jpg', 'Four_full (719).jpg', 'Five_full (692).jpg', 'Three_full (1436).jpg', 'Nine_full (1309).jpg', 'Six_full (931).jpg', 'Zero_full (682).jpg', 'Five_full (967).jpg', 'Six_full (1127).jpg', 'One_full (935).jpg', 'Nine_full (878).jpg', 'Two_full (1451).jpg', 'Five_full (33).jpg', 'Seven_full (919).jpg', 'Three_full (704).jpg', 'Six_full (955).jpg', 'Zero_full (174).jpg', 'Nine_full (1304).jpg', 'One_full (229).jpg', 'Six_full (729).jpg', 'One_full (694).jpg', 'Three_full (685).jpg', 'Six_full (702).jpg', 'Zero_full (55).jpg', 'Seven_full (953).jpg', 'Five_full (976).jpg', 'Three_full (681).jpg', 'Four_full (970).jpg', 'Eight_full (275).jpg', 'Six_full (683).jpg', 'Five_full (985).jpg', 'Two_full (39).jpg', 'One_full (719).jpg', 'Five_full (718).jpg', 'Three_full (924).jpg', 'Eight_full (1359).jpg', 'Seven_full (1395).jpg', 'Five_full (931).jpg', 'Five_full (282).jpg', 'Two_full (1180).jpg', 'Zero_full (177).jpg', 'Nine_full (228).jpg', 'Two_full (905).jpg', 'One_full (951).jpg', 'Eight_full (918).jpg', 'Seven_full (281).jpg', 'Three_full (1414).jpg', 'Three_full (917).jpg', 'Seven_full (679).jpg', 'Seven_full (944).jpg', 'Eight_full (929).jpg', 'Eight_full (276).jpg', 'Two_full (1465).jpg', 'Eight_full (925).jpg', 'Three_full (697).jpg', 'Seven_full (31).jpg', 'Zero_full (936).jpg', 'Six_full (37).jpg', 'Zero_full (8).jpg', 'Nine_full (1306).jpg', 'Seven_full (1394).jpg', 'Three_full (1428).jpg', 'Six_full (895).jpg', 'Zero_full (908).jpg', 'Eight_full (892).jpg']\n"
          ]
        }
      ]
    },
    {
      "cell_type": "code",
      "source": [
        "import zipfile\n",
        "import os\n",
        "import numpy as np\n",
        "import pandas as pd\n",
        "import cv2\n",
        "from numpy.linalg import svd\n",
        "from statistics import mean\n",
        "\n",
        "\n",
        "zip_path = '/content/drive/MyDrive/Dataset_pro/Dataset.zip'\n",
        "extract_path = './Dataset'\n",
        "\n",
        "\n",
        "with zipfile.ZipFile(zip_path, 'r') as zip_ref:\n",
        "    zip_ref.extractall(extract_path)\n",
        "\n",
        "\n",
        "input_folder = os.path.join(extract_path, 'AllNumbers')\n",
        "\n",
        "\n",
        "if not os.path.exists(input_folder):\n",
        "    raise FileNotFoundError(f\"'AllNumbers' folder not found inside {extract_path}\")\n",
        "\n",
        "# Function to compress an image using SVD\n",
        "def compress_image_svd(image, k):\n",
        "    U, S, Vt = svd(image, full_matrices=False)\n",
        "    S_k = np.diag(S[:k])\n",
        "    U_k = U[:, :k]\n",
        "    V_k = Vt[:k, :]\n",
        "    return np.dot(U_k, np.dot(S_k, V_k))\n",
        "\n",
        "# Function to evaluate compression quality\n",
        "def evaluate_compression_quality(original, compressed):\n",
        "    mse = np.mean((original - compressed) ** 2)\n",
        "    psnr = 20 * np.log10(1.0 / np.sqrt(mse)) if mse != 0 else float('inf')\n",
        "    return mse, psnr\n",
        "\n",
        "# Define range of k values and corresponding output folders\n",
        "k_values = [10, 20, 30, 40, 50]\n",
        "output_folders = [f\"K-{k}\" for k in k_values]\n",
        "\n",
        "# DataFrame to store overall results for all k values\n",
        "overall_results = []\n",
        "\n",
        "# Loop through each k value and corresponding output folder\n",
        "for k, output_folder in zip(k_values, output_folders):\n",
        "    os.makedirs(output_folder, exist_ok=True)\n",
        "\n",
        "    # DataFrame to store results for this k\n",
        "    results = []\n",
        "\n",
        "    # Get list of image files\n",
        "    image_files = [f for f in os.listdir(input_folder) if f.endswith(\".jpg\")]\n",
        "    if not image_files:\n",
        "        print(f\"No images found in the input folder: {input_folder}\")\n",
        "        continue\n",
        "\n",
        "    # Compress images in the specified folder\n",
        "    for image_file in image_files:\n",
        "        filepath = os.path.join(input_folder, image_file)\n",
        "        img = cv2.imread(filepath, cv2.IMREAD_GRAYSCALE)\n",
        "        img = img / 255.0  # Normalize pixel values to [0, 1]\n",
        "\n",
        "        m, n = img.shape\n",
        "        compressed_img = compress_image_svd(img, k)\n",
        "        compressed_img = np.clip(compressed_img, 0, 1)\n",
        "\n",
        "        # Evaluate quality\n",
        "        mse, psnr = evaluate_compression_quality(img, compressed_img)\n",
        "        original_size = m * n\n",
        "        compressed_size = m * k + k * k + n * k\n",
        "        compression_ratio = original_size / compressed_size\n",
        "\n",
        "        # Store results\n",
        "        results.append((image_file, mse, psnr, compression_ratio))\n",
        "\n",
        "        # Save compressed image\n",
        "        compressed_filepath = os.path.join(output_folder, image_file)\n",
        "        cv2.imwrite(compressed_filepath, (compressed_img * 255).astype(np.uint8))\n",
        "\n",
        "    # Save results for this k to an Excel file\n",
        "    results_df = pd.DataFrame(results, columns=[\"ImageName\", \"MSE\", \"PSNR\", \"CompressionRatio\"])\n",
        "    excel_file = os.path.join(output_folder, f\"results_k{k}.xlsx\")\n",
        "    results_df.to_excel(excel_file, index=False)\n",
        "\n",
        "    # Calculate overall averages for this k\n",
        "    mse_avg = mean(results_df[\"MSE\"])\n",
        "    psnr_avg = mean(results_df[\"PSNR\"])\n",
        "    compression_ratio_avg = mean(results_df[\"CompressionRatio\"])\n",
        "\n",
        "    print(f\"\\nResults for k = {k}:\")\n",
        "    print(f\"MSE: {mse_avg}\")\n",
        "    print(f\"PSNR: {psnr_avg} dB\")\n",
        "    print(f\"Compression Ratio: {compression_ratio_avg}\")\n",
        "\n",
        "    overall_results.append((k, mse_avg, psnr_avg, compression_ratio_avg))\n",
        "\n",
        "# Check if overall_results is populated\n",
        "if not overall_results:\n",
        "    print(\"No results were recorded. Please ensure images are present in the input folder.\")\n",
        "else:\n",
        "    overall_results_df = pd.DataFrame(overall_results, columns=[\"K\", \"MSE\", \"PSNR\", \"CompressionRatio\"])\n",
        "\n",
        "    # Save overall results to a single Excel file\n",
        "    overall_results_file = './overall_results.xlsx'\n",
        "    overall_results_df.to_excel(overall_results_file, index=False)\n",
        "    print(f\"\\nOverall results saved to {overall_results_file}\")\n",
        "\n",
        "    # Normalize metrics for combined score calculation\n",
        "    mse_normalized = 1 - (overall_results_df[\"MSE\"] - overall_results_df[\"MSE\"].min()) / (\n",
        "            overall_results_df[\"MSE\"].max() - overall_results_df[\"MSE\"].min())\n",
        "    psnr_normalized = (overall_results_df[\"PSNR\"] - overall_results_df[\"PSNR\"].min()) / (\n",
        "            overall_results_df[\"PSNR\"].max() - overall_results_df[\"PSNR\"].min())\n",
        "    compression_ratio_normalized = (overall_results_df[\"CompressionRatio\"] - overall_results_df[\n",
        "        \"CompressionRatio\"].min()) / (\n",
        "                                            overall_results_df[\"CompressionRatio\"].max() - overall_results_df[\n",
        "                                        \"CompressionRatio\"].min())\n",
        "\n",
        "    # Weights for each metric\n",
        "    w_mse = 0.3  # Lower MSE is more important\n",
        "    w_psnr = 0.3  # Higher PSNR is important\n",
        "    w_compression = 0.4  # Compression ratio is also important\n",
        "\n",
        "    # Calculate combined score for each K\n",
        "    overall_results_df[\"Score\"] = w_mse * mse_normalized + w_psnr * psnr_normalized + w_compression * compression_ratio_normalized\n",
        "\n",
        "    # Find the best K\n",
        "    best_row = overall_results_df[\"Score\"].idxmax()\n",
        "    best_k = overall_results_df.loc[best_row, \"K\"]\n",
        "\n",
        "    print(f\"\\nBest K: {best_k}\")\n",
        "    print(f\"Metrics for Best K:\")\n",
        "    print(f\"MSE: {overall_results_df.loc[best_row, 'MSE']}\")\n",
        "    print(f\"PSNR: {overall_results_df.loc[best_row, 'PSNR']} dB\")\n",
        "    print(f\"Compression Ratio: {overall_results_df.loc[best_row, 'CompressionRatio']}\")\n"
      ],
      "metadata": {
        "colab": {
          "base_uri": "https://localhost:8080/"
        },
        "id": "Yf6IZLW26A33",
        "outputId": "7c49d32c-fc93-4c55-e894-f757ef99b633"
      },
      "execution_count": 15,
      "outputs": [
        {
          "output_type": "stream",
          "name": "stdout",
          "text": [
            "\n",
            "Results for k = 10:\n",
            "MSE: 0.0014877845054030068\n",
            "PSNR: 30.35760134604769 dB\n",
            "Compression Ratio: 5.25\n",
            "\n",
            "Results for k = 20:\n",
            "MSE: 0.00016618244290246247\n",
            "PSNR: 41.1479035266804 dB\n",
            "Compression Ratio: 2.52\n",
            "\n",
            "Results for k = 30:\n",
            "MSE: 3.512260480260018e-05\n",
            "PSNR: 48.683321610456915 dB\n",
            "Compression Ratio: 1.6153846153846154\n",
            "\n",
            "Results for k = 40:\n",
            "MSE: 8.282267192745092e-06\n",
            "PSNR: 55.10738575179384 dB\n",
            "Compression Ratio: 1.1666666666666667\n",
            "\n",
            "Results for k = 50:\n",
            "MSE: 1.9043704659439984e-06\n",
            "PSNR: 61.59105031008055 dB\n",
            "Compression Ratio: 0.9\n",
            "\n",
            "Overall results saved to ./overall_results.xlsx\n",
            "\n",
            "Best K: 50\n",
            "Metrics for Best K:\n",
            "MSE: 1.9043704659439984e-06\n",
            "PSNR: 61.59105031008055 dB\n",
            "Compression Ratio: 0.9\n"
          ]
        }
      ]
    },
    {
      "cell_type": "code",
      "source": [
        "from google.colab import drive\n",
        "drive.mount('/content/drive')\n",
        "\n",
        "\n",
        "!cp ./overall_results.xlsx \"/content/drive/MyDrive/\"\n",
        "print(\"File copied to Google Drive: /content/drive/MyDrive/overall_results.xlsx\")\n"
      ],
      "metadata": {
        "colab": {
          "base_uri": "https://localhost:8080/"
        },
        "id": "erbSyc226tkW",
        "outputId": "7ec7333e-03ac-4af9-c11c-405142ebf12b"
      },
      "execution_count": 14,
      "outputs": [
        {
          "output_type": "stream",
          "name": "stdout",
          "text": [
            "Drive already mounted at /content/drive; to attempt to forcibly remount, call drive.mount(\"/content/drive\", force_remount=True).\n",
            "File copied to Google Drive: /content/drive/MyDrive/overall_results.xlsx\n"
          ]
        }
      ]
    }
  ]
}